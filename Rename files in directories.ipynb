{
 "cells": [
  {
   "cell_type": "markdown",
   "metadata": {},
   "source": [
    "### Malaria Datasets\n",
    "\n",
    "The data set comes from the US National Institutes of Health (NIH). https://ceb.nlm.nih.gov/repositories/malaria-datasets/\n",
    "\n",
    "The images of this data set, where taken by a mobile phone and as such the file names contains so many\n",
    "details making it difficult to work it.\n",
    "\n",
    "I this code, I try to rename of the images to make my work easy."
   ]
  },
  {
   "cell_type": "markdown",
   "metadata": {},
   "source": [
    "### import library"
   ]
  },
  {
   "cell_type": "code",
   "execution_count": 1,
   "metadata": {
    "ExecuteTime": {
     "end_time": "2018-12-24T07:58:44.725454Z",
     "start_time": "2018-12-24T07:58:44.722768Z"
    }
   },
   "outputs": [],
   "source": [
    "import os "
   ]
  },
  {
   "cell_type": "markdown",
   "metadata": {},
   "source": [
    "### Define function to rename files"
   ]
  },
  {
   "cell_type": "code",
   "execution_count": 2,
   "metadata": {
    "ExecuteTime": {
     "end_time": "2018-12-24T07:58:46.231417Z",
     "start_time": "2018-12-24T07:58:46.225361Z"
    }
   },
   "outputs": [],
   "source": [
    "def rename_files(path, new_name, numbering, extension):\n",
    "    ls = os.listdir(path=path)       # fetch all files from directory\n",
    "    os.chdir(path)                   # go to directory\n",
    "    try:\n",
    "        count = numbering\n",
    "        for i in ls:\n",
    "            os.rename(i, new_name + str(count) + '.' + extension)\n",
    "            count +=1\n",
    "    except:\n",
    "        print('Error encounted')"
   ]
  },
  {
   "cell_type": "markdown",
   "metadata": {},
   "source": [
    "### Rename files in Parasitized Class to infected "
   ]
  },
  {
   "cell_type": "code",
   "execution_count": 3,
   "metadata": {
    "ExecuteTime": {
     "end_time": "2018-12-24T07:58:47.700657Z",
     "start_time": "2018-12-24T07:58:47.539375Z"
    }
   },
   "outputs": [],
   "source": [
    "path = '/home/enock/Documents/Tensorflow_Keras_projects/cell_images/Parasitized'\n",
    "rename_files(path,  'infected',0,'png')"
   ]
  },
  {
   "cell_type": "markdown",
   "metadata": {},
   "source": [
    "### Rename files in Uninfected Class to uninfected"
   ]
  },
  {
   "cell_type": "code",
   "execution_count": 4,
   "metadata": {
    "ExecuteTime": {
     "end_time": "2018-12-24T07:58:50.717646Z",
     "start_time": "2018-12-24T07:58:50.554471Z"
    }
   },
   "outputs": [],
   "source": [
    "path1 = '/home/enock/Documents/Tensorflow_Keras_projects/cell_images/Uninfected'\n",
    "rename_files(path1,  'uninfected',0,'png')"
   ]
  },
  {
   "cell_type": "code",
   "execution_count": null,
   "metadata": {},
   "outputs": [],
   "source": []
  }
 ],
 "metadata": {
  "kernelspec": {
   "display_name": "Python 3",
   "language": "python",
   "name": "python3"
  },
  "language_info": {
   "codemirror_mode": {
    "name": "ipython",
    "version": 3
   },
   "file_extension": ".py",
   "mimetype": "text/x-python",
   "name": "python",
   "nbconvert_exporter": "python",
   "pygments_lexer": "ipython3",
   "version": "3.6.7"
  },
  "latex_envs": {
   "LaTeX_envs_menu_present": true,
   "autoclose": false,
   "autocomplete": true,
   "bibliofile": "biblio.bib",
   "cite_by": "apalike",
   "current_citInitial": 1,
   "eqLabelWithNumbers": true,
   "eqNumInitial": 1,
   "hotkeys": {
    "equation": "Ctrl-E",
    "itemize": "Ctrl-I"
   },
   "labels_anchors": false,
   "latex_user_defs": false,
   "report_style_numbering": false,
   "user_envs_cfg": false
  },
  "nbTranslate": {
   "displayLangs": [
    "*"
   ],
   "hotkey": "alt-t",
   "langInMainMenu": true,
   "sourceLang": "en",
   "targetLang": "fr",
   "useGoogleTranslate": true
  },
  "toc": {
   "base_numbering": 1,
   "nav_menu": {},
   "number_sections": true,
   "sideBar": true,
   "skip_h1_title": false,
   "title_cell": "Table of Contents",
   "title_sidebar": "Contents",
   "toc_cell": false,
   "toc_position": {},
   "toc_section_display": true,
   "toc_window_display": false
  },
  "varInspector": {
   "cols": {
    "lenName": 16,
    "lenType": 16,
    "lenVar": 40
   },
   "kernels_config": {
    "python": {
     "delete_cmd_postfix": "",
     "delete_cmd_prefix": "del ",
     "library": "var_list.py",
     "varRefreshCmd": "print(var_dic_list())"
    },
    "r": {
     "delete_cmd_postfix": ") ",
     "delete_cmd_prefix": "rm(",
     "library": "var_list.r",
     "varRefreshCmd": "cat(var_dic_list()) "
    }
   },
   "types_to_exclude": [
    "module",
    "function",
    "builtin_function_or_method",
    "instance",
    "_Feature"
   ],
   "window_display": false
  }
 },
 "nbformat": 4,
 "nbformat_minor": 2
}
