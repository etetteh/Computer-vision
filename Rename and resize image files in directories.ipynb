{
 "cells": [
  {
   "cell_type": "markdown",
   "metadata": {},
   "source": [
    "### Malaria Datasets\n",
    "\n",
    "The data set comes from the US National Institutes of Health (NIH). https://ceb.nlm.nih.gov/repositories/malaria-datasets/\n",
    "\n",
    "The images of this data set, where taken by a mobile phone and as such the file names contains so many\n",
    "details making it difficult to work it.\n",
    "\n",
    "I this code, I try to rename of the images to make my work easy."
   ]
  },
  {
   "cell_type": "markdown",
   "metadata": {},
   "source": [
    "### import library"
   ]
  },
  {
   "cell_type": "code",
   "execution_count": 1,
   "metadata": {
    "ExecuteTime": {
     "end_time": "2019-01-18T20:51:46.816175Z",
     "start_time": "2019-01-18T20:51:46.805871Z"
    }
   },
   "outputs": [],
   "source": [
    "import os \n",
    "from PIL import Image"
   ]
  },
  {
   "cell_type": "markdown",
   "metadata": {},
   "source": [
    "### Paths to original data"
   ]
  },
  {
   "cell_type": "code",
   "execution_count": 2,
   "metadata": {
    "ExecuteTime": {
     "end_time": "2019-01-18T20:51:47.784365Z",
     "start_time": "2019-01-18T20:51:47.781888Z"
    }
   },
   "outputs": [],
   "source": [
    "path1 = '/home/enock/Documents/Tensorflow_Keras_projects/cell_images/Parasitized/'\n",
    "path2 = '/home/enock/Documents/Tensorflow_Keras_projects/cell_images/Uninfected/'"
   ]
  },
  {
   "cell_type": "markdown",
   "metadata": {},
   "source": [
    "### Create new paths to save resized images"
   ]
  },
  {
   "cell_type": "code",
   "execution_count": 3,
   "metadata": {
    "ExecuteTime": {
     "end_time": "2019-01-18T20:51:49.215433Z",
     "start_time": "2019-01-18T20:51:49.211600Z"
    }
   },
   "outputs": [],
   "source": [
    "path_1 = '/home/enock/Documents/Tensorflow_Keras_projects/cell_images/Parasitized1/'\n",
    "path_2 = '/home/enock/Documents/Tensorflow_Keras_projects/cell_images/Uninfected1/'\n",
    "\n",
    "if not os.path.exists(path_1):\n",
    "    os.mkdir(path_1)\n",
    "    \n",
    "if not os.path.exists(path_2):\n",
    "    os.mkdir(path_2)"
   ]
  },
  {
   "cell_type": "markdown",
   "metadata": {},
   "source": [
    "### Resize Images"
   ]
  },
  {
   "cell_type": "code",
   "execution_count": 4,
   "metadata": {
    "ExecuteTime": {
     "end_time": "2019-01-18T20:52:23.191157Z",
     "start_time": "2019-01-18T20:52:23.183777Z"
    }
   },
   "outputs": [],
   "source": [
    "### Define function to resize images\n",
    "def img_resize(old_path, new_path):\n",
    "    for img in os.listdir(old_path):\n",
    "        if os.path.isfile(old_path + img):\n",
    "            im = Image.open(old_path + img)\n",
    "            imgResize = im.resize((70, 70), Image.ANTIALIAS)\n",
    "            imgResize.save(new_path + img, \"PNG\", quality=100)"
   ]
  },
  {
   "cell_type": "code",
   "execution_count": 5,
   "metadata": {
    "ExecuteTime": {
     "end_time": "2019-01-18T20:53:49.291824Z",
     "start_time": "2019-01-18T20:52:30.004482Z"
    }
   },
   "outputs": [],
   "source": [
    "img_resize(old_path=path1, new_path=path_1)\n",
    "img_resize(old_path=path2, new_path=path_2)"
   ]
  },
  {
   "cell_type": "markdown",
   "metadata": {},
   "source": [
    "### Define function to rename files"
   ]
  },
  {
   "cell_type": "code",
   "execution_count": 7,
   "metadata": {
    "ExecuteTime": {
     "end_time": "2019-01-18T20:54:51.094303Z",
     "start_time": "2019-01-18T20:54:51.089816Z"
    }
   },
   "outputs": [],
   "source": [
    "def rename_files(path, new_name, numbering, extension):\n",
    "    ls = os.listdir(path=path)       # fetch all files from directory\n",
    "    os.chdir(path)                   # go to directory\n",
    "    try:\n",
    "        count = numbering\n",
    "        for i in ls:\n",
    "            os.rename(i, new_name + str(count) + '.' + extension)\n",
    "            count +=1\n",
    "    except:\n",
    "        print('Error encounted')"
   ]
  },
  {
   "cell_type": "markdown",
   "metadata": {},
   "source": [
    "### Rename files in Parasitized Class to infected "
   ]
  },
  {
   "cell_type": "code",
   "execution_count": 10,
   "metadata": {
    "ExecuteTime": {
     "end_time": "2019-01-18T20:55:24.586695Z",
     "start_time": "2019-01-18T20:55:24.381582Z"
    }
   },
   "outputs": [],
   "source": [
    "rename_files(path_1,  'infected',0,'png')"
   ]
  },
  {
   "cell_type": "markdown",
   "metadata": {},
   "source": [
    "### Rename files in Uninfected Class to uninfected"
   ]
  },
  {
   "cell_type": "code",
   "execution_count": 11,
   "metadata": {
    "ExecuteTime": {
     "end_time": "2019-01-18T20:55:45.417855Z",
     "start_time": "2019-01-18T20:55:45.204172Z"
    }
   },
   "outputs": [],
   "source": [
    "rename_files(path_2,  'uninfected',0,'png')"
   ]
  },
  {
   "cell_type": "markdown",
   "metadata": {},
   "source": [
    "delete infected13258, uninfected13264"
   ]
  },
  {
   "cell_type": "code",
   "execution_count": null,
   "metadata": {},
   "outputs": [],
   "source": []
  },
  {
   "cell_type": "code",
   "execution_count": null,
   "metadata": {},
   "outputs": [],
   "source": []
  }
 ],
 "metadata": {
  "kernelspec": {
   "display_name": "Python 3",
   "language": "python",
   "name": "python3"
  },
  "language_info": {
   "codemirror_mode": {
    "name": "ipython",
    "version": 3
   },
   "file_extension": ".py",
   "mimetype": "text/x-python",
   "name": "python",
   "nbconvert_exporter": "python",
   "pygments_lexer": "ipython3",
   "version": "3.6.8"
  },
  "latex_envs": {
   "LaTeX_envs_menu_present": true,
   "autoclose": false,
   "autocomplete": true,
   "bibliofile": "biblio.bib",
   "cite_by": "apalike",
   "current_citInitial": 1,
   "eqLabelWithNumbers": true,
   "eqNumInitial": 1,
   "hotkeys": {
    "equation": "Ctrl-E",
    "itemize": "Ctrl-I"
   },
   "labels_anchors": false,
   "latex_user_defs": false,
   "report_style_numbering": false,
   "user_envs_cfg": false
  },
  "nbTranslate": {
   "displayLangs": [
    "*"
   ],
   "hotkey": "alt-t",
   "langInMainMenu": true,
   "sourceLang": "en",
   "targetLang": "fr",
   "useGoogleTranslate": true
  },
  "toc": {
   "base_numbering": 1,
   "nav_menu": {},
   "number_sections": true,
   "sideBar": true,
   "skip_h1_title": false,
   "title_cell": "Table of Contents",
   "title_sidebar": "Contents",
   "toc_cell": false,
   "toc_position": {},
   "toc_section_display": true,
   "toc_window_display": false
  },
  "varInspector": {
   "cols": {
    "lenName": 16,
    "lenType": 16,
    "lenVar": 40
   },
   "kernels_config": {
    "python": {
     "delete_cmd_postfix": "",
     "delete_cmd_prefix": "del ",
     "library": "var_list.py",
     "varRefreshCmd": "print(var_dic_list())"
    },
    "r": {
     "delete_cmd_postfix": ") ",
     "delete_cmd_prefix": "rm(",
     "library": "var_list.r",
     "varRefreshCmd": "cat(var_dic_list()) "
    }
   },
   "types_to_exclude": [
    "module",
    "function",
    "builtin_function_or_method",
    "instance",
    "_Feature"
   ],
   "window_display": false
  }
 },
 "nbformat": 4,
 "nbformat_minor": 2
}
